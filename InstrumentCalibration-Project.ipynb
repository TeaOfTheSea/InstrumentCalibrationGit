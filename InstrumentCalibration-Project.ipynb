{
 "cells": [
  {
   "cell_type": "code",
   "execution_count": 4,
   "metadata": {},
   "outputs": [
    {
     "data": {
      "text/html": [
       "<!--Script block to left align Markdown Tables-->\n",
       "<style>\n",
       "  table {margin-left: 0 !important;}\n",
       "</style>\n"
      ],
      "text/plain": [
       "<IPython.core.display.HTML object>"
      ]
     },
     "metadata": {},
     "output_type": "display_data"
    }
   ],
   "source": [
    "%%html\n",
    "<!--Script block to left align Markdown Tables-->\n",
    "<style>\n",
    "  table {margin-left: 0 !important;}\n",
    "</style>"
   ]
  },
  {
   "cell_type": "markdown",
   "metadata": {},
   "source": [
    "# ENGR 1330 – Computational Thinking with Data Science"
   ]
  },
  {
   "cell_type": "markdown",
   "metadata": {},
   "source": [
    "## Pressure Transducer Calibration Final Project \n",
    "\n",
    "Measurement is a process of comparison: the measured quantity is compared to a known standard. Before we measure, we must establish the relationship between the readout val-ues of our instrument and known input values of the measurand. This process is called as calibration.\n",
    "\n",
    "The purpose of calibrating a system is to:\n",
    "- Relate the actual sensor output (i.e. a voltage) to the quantity we are attempting to measure ($\\frac{F}{A}$ a normal stress, we usually call pressure)\n",
    "- Identify and correct bias error\n",
    "- Quantify random error associated with using each system. \n",
    "\n",
    "This project will develop scripts to calibrate two independent pressure measurement systems: \n",
    "\n",
    "1. an analog gauge and \n",
    "2. an electronic pressure transducer \n",
    "\n",
    "### Background\n",
    "The pressures produced by the tester as shown by the values stamped on the weights as the exact true pressures. The true pressure, the pressure indicated on the analog gauge, and the voltage output by the pressure transducer are given to you, respectively. \n",
    "\n",
    "The figure below shows a picture of a typical deadweight tester instrument.\n",
    "\n",
    "![](http://54.243.252.9/engr-1330-psuedo-course/CECE-1330-PsuedoCourse/6-Projects/P-InstrumentCalibration/pressure-testbed.png)\n",
    "\n",
    "An operational schematic is shown in the following figure\n",
    "\n",
    "![](http://54.243.252.9/engr-1330-psuedo-course/CECE-1330-PsuedoCourse/6-Projects/P-InstrumentCalibration/Setup-of-Deadweight-Tester-19.png)\n",
    "\n",
    "**Learn More at** http://54.243.252.9/engr-1330-psuedo-course/CECE-1330-PsuedoCourse/6-Projects/P-InstrumentCalibration/Calibrationho.pdf\n",
    "\n",
    "## Objective(s):\n",
    "- Literature scan on instrument calibration and pressure measurement techniques\n",
    "- Analyse an existing measurement database and build a data model to calibrate a pressure transducer, and an analog gage.   The measurements database is comprised of 4 columns: \n",
    "\n",
    "&nbsp;&nbsp;&nbsp;&nbsp;&nbsp;&nbsp; - A test ID (in practice replicate tests are conducted. Why?)<br>\n",
    "&nbsp;&nbsp;&nbsp;&nbsp;&nbsp;&nbsp; - The true applied pressures from 5 psig to 105 psig. <br>\n",
    "&nbsp;&nbsp;&nbsp;&nbsp;&nbsp;&nbsp; - The analog pressures read from the gauge.<br>\n",
    "&nbsp;&nbsp;&nbsp;&nbsp;&nbsp;&nbsp; - The voltages read from the transducer. \n",
    "\n",
    "- Build an interface to allow users to enter voltages and return an estimated pressure and an assessment of the uncertainty in the estimate, and return the anticipated analog reading.\n",
    "- Build an interface to allow users to add observations to the underlying database, and automatically update the calibration model to incorporate the new observations"
   ]
  },
  {
   "cell_type": "markdown",
   "metadata": {},
   "source": [
    "## Tasks: \n",
    "\n",
    "**Literature Research:**\n",
    "- Describe the proces of pressure transducer calibration using a deadweight testbed (i.e. provide a description for the schematic figure above)\n",
    "- Summarize the value of a calibration (data) model in the context of converting voltage readings to applied pressure.\n",
    "\n",
    "Some places to start\n",
    "\n",
    "- Beckwith, Marangoni, and Lienhard, Mechanical Measurements, Fifth Edition, Addison-Wesley PublishingCo., Reading, Massachusetts, 1993.\n",
    "\n",
    "- Bevington and Robinson, Data Reduction and Error Analysis for the Physical Sciences, Second Edition,WCB/McGraw Hill, Boston, Massachusetts, 1992.\n",
    "\n",
    "- Meyer, Paul L., Introductory Probability and Statistical Applications, 2nd Edition, Addison-WesleyPublishing Co., Reading, Massachusetts, 1970\n",
    "\n",
    "- Kline, S. J. and F. A. McClintock (1953). Describing uncertainties in single-sample experiments. Mechanical Engineering (No. 75), 3-9. http://54.243.252.9/engr-1330-psuedo-course/CECE-1330-PsuedoCourse/6-Projects/P-InstrumentCalibration/Kline_McClintock1953.pdf\n",
    "\n",
    "- Holman, J. P. (1989). Experimental Methods for Engineers, 5th Edition. New York, NY: McGraw-Hill. http://54.243.252.9/engr-1330-psuedo-course/CECE-1330-PsuedoCourse/6-Projects/P-InstrumentCalibration/holman1989.pdf\n",
    "\n",
    "- Doebelin, E. O. (1990). Measurement Systems (4th ed.). New York, NY: McGraw-Hill.\n",
    "\n",
    "- http://54.243.252.9/engr-1330-psuedo-course/CECE-1330-PsuedoCourse/6-Projects/P-InstrumentCalibration/ce_5333_1.1_error_analysis.pdf\n",
    "\n",
    "- http://54.243.252.9/engr-1330-psuedo-course/CECE-1330-PsuedoCourse/6-Projects/P-InstrumentCalibration/ce_5333_1.2_error_analysis.pdf\n",
    "\n",
    "**Database Acquisition**\n",
    "- Get the database from the repository: http://54.243.252.9/engr-1330-psuedo-course/CECE-1330-PsuedoCourse/6-Projects/P-InstrumentCalibration/PressureSensorData.csv \n",
    "\n",
    "**Exploratory Data Analysis**\n",
    "- Describe the database. Include visualization of the database.\n",
    "- Reformat as needed (column headings perhaps) the database for subsequent analysis.\n",
    "- For each measurement system (analog readout, sensor voltage): Plot the data (as symbols) e.g. true pressure versus analog pressure; analog pressure versus volts; true pressure versus volts. Describe the plots. \n",
    "- Select possible data model structures (linear model, power-law, ...)\n",
    "- Select possible data model \"fitting\" tools (ordinary least squares,lasso regression, decision trees, random forests, ...)\n",
    "\n",
    "**Model Building**\n",
    "- Build data models\n",
    "- Assess data model quality (decide which model is best) including visualization tools (red line through blue dots ...)\n",
    "- Build the input data interface for using the \"best\" model(s)\n",
    "- Assume that you are now using your calibrated analog pressure gauge to make a reading in the field. You read a value of 64 psi on the gauge. Estimate the true pressure at 95 percent confidence. Be sure to report your result with a value with an appropriate number of digits, an uncertainty bracket, units, and a confidence level.\n",
    "- Assume that you are now using your calibrated pressure transducer to make a reading in the field. You read a value of 1.4320 Volts . Estimate the true pressure at 95 percent confidence. Be sure to report your result with a value with an appropriate number of digits, an uncertainty bracket, units, and a confidence level.\n",
    "- Using your best model determine projected pressure readings and an assessment of uncertainty for 5 sensor voltages in the table below.  \n",
    "|Test|Sensor Voltage|\n",
    "|:---|:---|\n",
    "|U1|3.0|\n",
    "|U2|0.2|\n",
    "|U3|0.03|\n",
    "|U4|5.0|     \n",
    "|U5|0.07|                \n",
    "       \n",
    "**Documentation**\n",
    "- Training video on how to use your tool, and demonstrate the tool(s) as they are run\n",
    "- Project management video \n",
    "- Interim report (see deliverables below); this document must be rendered as a .pdf, but you are free to use your favorite writing software (Word,LibreOffice, ...).\n",
    "- Final Report (see deliverables below)"
   ]
  },
  {
   "cell_type": "markdown",
   "metadata": {},
   "source": [
    "## Deliverables:\n",
    "\n",
    "#### Part 1 (due April 30):\n",
    "A report that briefly describes the concrete strength database and how you plan to solve the tasks of creating a suitable data model.  \n",
    "- Break down each task into manageable subtasks and describe how you intend to solve the subtasks and how you will test each task. (Perhaps make a simple Gantt Chart)\n",
    "- Address the responsibilities of each team member for tasks completed and tasks to be completed until the end of the semester. (Perhaps make explicit subtask assignments)\n",
    "\n",
    "Your report should be limited to 4 pages, 12 pt font size, double linespacing (exclusive of references which are NOT included in the page count).  You need to cite/reference all sources you used.  \n",
    "\n",
    "#### Part 2 (due May 7):\n",
    "- A well-documented JupyterLab (using a python kernel) analysis and implementation for the data model.\n",
    "- A well-documented JupyterLab (using a python kernel) implementation for the data model user interface.\n",
    "- A well-documented JupyterLab (using a python kernel) implementation for the database update interface.\n",
    "\n",
    "**Above items can reside in a single notebook; but clearly identify sections that perform different tasks.**\n",
    "\n",
    "- A how-to video demonstrating performance and description of problems that you were not able to solve.\n",
    "- A project management video (up to 5 minutes) in which you explain how you completed the project and how you worked as a team.\n",
    "\n",
    "**Above items can reside in a single video; but structure the video into the two parts; use an obvious transition when moving from \"how to ...\" into the project management portion.**  Keep the total video length to less than 10 minutes; submit as an *unlisted* YouTube video, and just supply the link (someone on each team is likely to have a YouTube creator account).  Keep in mind a 10 minute video can approach 100MB file size before compression, so it won't upload to Blackboard and cannot be emailed."
   ]
  },
  {
   "cell_type": "markdown",
   "metadata": {},
   "source": [
    "# Submission"
   ]
  },
  {
   "cell_type": "markdown",
   "metadata": {},
   "source": [
    "## Task 1 - Lterature Research"
   ]
  },
  {
   "cell_type": "markdown",
   "metadata": {},
   "source": [
    "### The process of calibrating a pressure transducer\n",
    "\n",
    "The pressure transducer is an instrument consisting of a piston on top of which a mass is placed, a chamber filled with oil who's pressure rises as more mass is placed on the piston, a gauge at the end of the oil chamber, a reservoir for the oil, and another piston so as to adjust the system's base pressure. There is also a voltage out, which is based upon the piston pushing on a sensor that outputs the deformation as voltage.\n",
    "The pressure transducer works by taking a mass on the primary piston and converting that to a measure of pressure on the analogue reader and to a voltage value out. Then, the readings of the analogue gauge and the voltage values get compared. The relationship of the values and the readings is determined by finding the coefficients in a linear equation so as to find the best fitting line for all of the data points, which are the readings to the values."
   ]
  },
  {
   "cell_type": "markdown",
   "metadata": {},
   "source": [
    "### Summarize the value of a calibration (data) model in the context of converting voltage readings to applied pressure.\n",
    "\n",
    "We can not reverse the process by which voltage readings are produced using a pressure transducer. For the physical device, mass used to create pressure is always the input and voltage is always the output. This means we can find the voltage that correlates to any given pressure by simply using the mass needed to create that pressure as an imput, but if we wanted to find the pressure that corresponded to any given voltage, we would be forced to make guesses in a fassion comparable to a binary search. This process would look something like this:\n",
    "\n",
    "* X pressure produces a voltage lower than desired, so increase the mass to Y\n",
    "* Y pressure produces a voltage higher than desired, do increase the mass below Y but still above X\n",
    "\n",
    "This process would be incredibly tedious and to find an answer with high percision, the amount of trials needed would be inordinatly large.\n",
    "\n",
    "Instead of going through this process, we can calibrate our system and define the relationship between our input an output as a mathematical model. This model, unlike the real world device it emulates, does not have it's order constrained. Finding a pressure which corresponds to a given voltage is as simple as solving for a variable. This makes calibration an incredibly useful tool for the purposes of converting voltage readings to applied pressure."
   ]
  },
  {
   "cell_type": "markdown",
   "metadata": {},
   "source": [
    "## Task 2 - Database Acquisition"
   ]
  },
  {
   "cell_type": "code",
   "execution_count": 5,
   "metadata": {},
   "outputs": [],
   "source": [
    "import pandas as pd\n",
    "import sys\n",
    "import matplotlib.pyplot as plt\n",
    "import numpy as np"
   ]
  },
  {
   "cell_type": "code",
   "execution_count": 6,
   "metadata": {},
   "outputs": [],
   "source": [
    "if sys.platform == 'darwin': #for Patrick's Mac because Tim Cook runs a terrible company\n",
    "    sensorData = pd.read_csv('PressureSensorData.csv')\n",
    "else:\n",
    "    sensorData = pd.read_csv('../PressureSensorData.csv')"
   ]
  },
  {
   "cell_type": "markdown",
   "metadata": {},
   "source": [
    "## Task 3 - Exploratory Data Analysis"
   ]
  },
  {
   "cell_type": "markdown",
   "metadata": {},
   "source": [
    "### Describe the database. Include visualization of the database."
   ]
  },
  {
   "cell_type": "markdown",
   "metadata": {},
   "source": [
    "The graphs below show the correlation between what the gauge shows versus the actual pressure (fig. 1), the voltage value to the actual pressure (fig. 2), and the gauge readings against the voltage values. The data points are arranged rather linearly and consistently, minus a small jump in the low 50s for analogue pressure (as seen on fig. 1 and 3). This could imply that the gauge has an issue in that area of pressure. Additionally, the readings for analogue pressure seem to be less precise, as seen by the fact that at certain point of true pressure, there are mulitple different corresponding analogue values (fig. 1). Voltage meanwhile, seems to be far more precise (fig. 2). This could either be due to user error in reading, or some issue with the gauge- though the first is more likely. All of this also proves the usefulness for repeated testing: If each pressure was only tested once, the likelihood that calibration would be correct is not high. Hence, the repeated tests and the repeats of true pressure."
   ]
  },
  {
   "cell_type": "code",
   "execution_count": 7,
   "metadata": {},
   "outputs": [
    {
     "data": {
      "text/html": [
       "<div>\n",
       "<style scoped>\n",
       "    .dataframe tbody tr th:only-of-type {\n",
       "        vertical-align: middle;\n",
       "    }\n",
       "\n",
       "    .dataframe tbody tr th {\n",
       "        vertical-align: top;\n",
       "    }\n",
       "\n",
       "    .dataframe thead th {\n",
       "        text-align: right;\n",
       "    }\n",
       "</style>\n",
       "<table border=\"1\" class=\"dataframe\">\n",
       "  <thead>\n",
       "    <tr style=\"text-align: right;\">\n",
       "      <th></th>\n",
       "      <th>test_id</th>\n",
       "      <th>pt_psia</th>\n",
       "      <th>pa_psia</th>\n",
       "      <th>pd_volts</th>\n",
       "    </tr>\n",
       "  </thead>\n",
       "  <tbody>\n",
       "    <tr>\n",
       "      <th>0</th>\n",
       "      <td>1.0</td>\n",
       "      <td>5</td>\n",
       "      <td>4</td>\n",
       "      <td>0.2834</td>\n",
       "    </tr>\n",
       "    <tr>\n",
       "      <th>1</th>\n",
       "      <td>1.0</td>\n",
       "      <td>10</td>\n",
       "      <td>10</td>\n",
       "      <td>0.3655</td>\n",
       "    </tr>\n",
       "    <tr>\n",
       "      <th>2</th>\n",
       "      <td>1.0</td>\n",
       "      <td>15</td>\n",
       "      <td>14</td>\n",
       "      <td>0.4469</td>\n",
       "    </tr>\n",
       "    <tr>\n",
       "      <th>3</th>\n",
       "      <td>1.0</td>\n",
       "      <td>35</td>\n",
       "      <td>34</td>\n",
       "      <td>0.7752</td>\n",
       "    </tr>\n",
       "    <tr>\n",
       "      <th>4</th>\n",
       "      <td>1.0</td>\n",
       "      <td>55</td>\n",
       "      <td>56</td>\n",
       "      <td>1.1028</td>\n",
       "    </tr>\n",
       "    <tr>\n",
       "      <th>...</th>\n",
       "      <td>...</td>\n",
       "      <td>...</td>\n",
       "      <td>...</td>\n",
       "      <td>...</td>\n",
       "    </tr>\n",
       "    <tr>\n",
       "      <th>103</th>\n",
       "      <td>9.0</td>\n",
       "      <td>105</td>\n",
       "      <td>104</td>\n",
       "      <td>1.9267</td>\n",
       "    </tr>\n",
       "    <tr>\n",
       "      <th>104</th>\n",
       "      <td>9.0</td>\n",
       "      <td>125</td>\n",
       "      <td>124</td>\n",
       "      <td>2.2536</td>\n",
       "    </tr>\n",
       "    <tr>\n",
       "      <th>105</th>\n",
       "      <td>9.0</td>\n",
       "      <td>145</td>\n",
       "      <td>144</td>\n",
       "      <td>2.5820</td>\n",
       "    </tr>\n",
       "    <tr>\n",
       "      <th>106</th>\n",
       "      <td>9.0</td>\n",
       "      <td>165</td>\n",
       "      <td>164</td>\n",
       "      <td>2.9100</td>\n",
       "    </tr>\n",
       "    <tr>\n",
       "      <th>107</th>\n",
       "      <td>9.0</td>\n",
       "      <td>175</td>\n",
       "      <td>174</td>\n",
       "      <td>3.0690</td>\n",
       "    </tr>\n",
       "  </tbody>\n",
       "</table>\n",
       "<p>108 rows × 4 columns</p>\n",
       "</div>"
      ],
      "text/plain": [
       "     test_id  pt_psia  pa_psia  pd_volts\n",
       "0        1.0        5        4    0.2834\n",
       "1        1.0       10       10    0.3655\n",
       "2        1.0       15       14    0.4469\n",
       "3        1.0       35       34    0.7752\n",
       "4        1.0       55       56    1.1028\n",
       "..       ...      ...      ...       ...\n",
       "103      9.0      105      104    1.9267\n",
       "104      9.0      125      124    2.2536\n",
       "105      9.0      145      144    2.5820\n",
       "106      9.0      165      164    2.9100\n",
       "107      9.0      175      174    3.0690\n",
       "\n",
       "[108 rows x 4 columns]"
      ]
     },
     "execution_count": 7,
     "metadata": {},
     "output_type": "execute_result"
    }
   ],
   "source": [
    "sensorData"
   ]
  },
  {
   "cell_type": "code",
   "execution_count": 8,
   "metadata": {},
   "outputs": [
    {
     "name": "stdout",
     "output_type": "stream",
     "text": [
      "<class 'pandas.core.frame.DataFrame'>\n",
      "RangeIndex: 108 entries, 0 to 107\n",
      "Data columns (total 4 columns):\n",
      " #   Column    Non-Null Count  Dtype  \n",
      "---  ------    --------------  -----  \n",
      " 0   test_id   107 non-null    float64\n",
      " 1   pt_psia   108 non-null    int64  \n",
      " 2   pa_psia   108 non-null    int64  \n",
      " 3   pd_volts  108 non-null    float64\n",
      "dtypes: float64(2), int64(2)\n",
      "memory usage: 3.5 KB\n",
      "None\n"
     ]
    },
    {
     "data": {
      "text/html": [
       "<div>\n",
       "<style scoped>\n",
       "    .dataframe tbody tr th:only-of-type {\n",
       "        vertical-align: middle;\n",
       "    }\n",
       "\n",
       "    .dataframe tbody tr th {\n",
       "        vertical-align: top;\n",
       "    }\n",
       "\n",
       "    .dataframe thead th {\n",
       "        text-align: right;\n",
       "    }\n",
       "</style>\n",
       "<table border=\"1\" class=\"dataframe\">\n",
       "  <thead>\n",
       "    <tr style=\"text-align: right;\">\n",
       "      <th></th>\n",
       "      <th>test_id</th>\n",
       "      <th>pt_psia</th>\n",
       "      <th>pa_psia</th>\n",
       "      <th>pd_volts</th>\n",
       "    </tr>\n",
       "  </thead>\n",
       "  <tbody>\n",
       "    <tr>\n",
       "      <th>count</th>\n",
       "      <td>107.000000</td>\n",
       "      <td>108.000000</td>\n",
       "      <td>108.000000</td>\n",
       "      <td>108.000000</td>\n",
       "    </tr>\n",
       "    <tr>\n",
       "      <th>mean</th>\n",
       "      <td>4.990654</td>\n",
       "      <td>83.750000</td>\n",
       "      <td>82.842593</td>\n",
       "      <td>1.575580</td>\n",
       "    </tr>\n",
       "    <tr>\n",
       "      <th>std</th>\n",
       "      <td>2.604406</td>\n",
       "      <td>58.442099</td>\n",
       "      <td>58.235930</td>\n",
       "      <td>0.958096</td>\n",
       "    </tr>\n",
       "    <tr>\n",
       "      <th>min</th>\n",
       "      <td>1.000000</td>\n",
       "      <td>5.000000</td>\n",
       "      <td>4.000000</td>\n",
       "      <td>0.283000</td>\n",
       "    </tr>\n",
       "    <tr>\n",
       "      <th>25%</th>\n",
       "      <td>3.000000</td>\n",
       "      <td>30.000000</td>\n",
       "      <td>29.250000</td>\n",
       "      <td>0.695842</td>\n",
       "    </tr>\n",
       "    <tr>\n",
       "      <th>50%</th>\n",
       "      <td>5.000000</td>\n",
       "      <td>85.000000</td>\n",
       "      <td>85.000000</td>\n",
       "      <td>1.595300</td>\n",
       "    </tr>\n",
       "    <tr>\n",
       "      <th>75%</th>\n",
       "      <td>7.000000</td>\n",
       "      <td>130.000000</td>\n",
       "      <td>129.000000</td>\n",
       "      <td>2.336950</td>\n",
       "    </tr>\n",
       "    <tr>\n",
       "      <th>max</th>\n",
       "      <td>9.000000</td>\n",
       "      <td>175.000000</td>\n",
       "      <td>174.000000</td>\n",
       "      <td>3.074700</td>\n",
       "    </tr>\n",
       "  </tbody>\n",
       "</table>\n",
       "</div>"
      ],
      "text/plain": [
       "          test_id     pt_psia     pa_psia    pd_volts\n",
       "count  107.000000  108.000000  108.000000  108.000000\n",
       "mean     4.990654   83.750000   82.842593    1.575580\n",
       "std      2.604406   58.442099   58.235930    0.958096\n",
       "min      1.000000    5.000000    4.000000    0.283000\n",
       "25%      3.000000   30.000000   29.250000    0.695842\n",
       "50%      5.000000   85.000000   85.000000    1.595300\n",
       "75%      7.000000  130.000000  129.000000    2.336950\n",
       "max      9.000000  175.000000  174.000000    3.074700"
      ]
     },
     "execution_count": 8,
     "metadata": {},
     "output_type": "execute_result"
    }
   ],
   "source": [
    "print(sensorData.info())\n",
    "sensorData.describe()"
   ]
  },
  {
   "cell_type": "markdown",
   "metadata": {},
   "source": [
    "### Reformat as needed (column headings perhaps) the database for subsequent analysis."
   ]
  },
  {
   "cell_type": "code",
   "execution_count": 9,
   "metadata": {},
   "outputs": [
    {
     "data": {
      "text/html": [
       "<div>\n",
       "<style scoped>\n",
       "    .dataframe tbody tr th:only-of-type {\n",
       "        vertical-align: middle;\n",
       "    }\n",
       "\n",
       "    .dataframe tbody tr th {\n",
       "        vertical-align: top;\n",
       "    }\n",
       "\n",
       "    .dataframe thead th {\n",
       "        text-align: right;\n",
       "    }\n",
       "</style>\n",
       "<table border=\"1\" class=\"dataframe\">\n",
       "  <thead>\n",
       "    <tr style=\"text-align: right;\">\n",
       "      <th></th>\n",
       "      <th>testID</th>\n",
       "      <th>truePressure</th>\n",
       "      <th>analogPressure</th>\n",
       "      <th>voltage</th>\n",
       "    </tr>\n",
       "  </thead>\n",
       "  <tbody>\n",
       "    <tr>\n",
       "      <th>0</th>\n",
       "      <td>1.0</td>\n",
       "      <td>5</td>\n",
       "      <td>4</td>\n",
       "      <td>0.2834</td>\n",
       "    </tr>\n",
       "    <tr>\n",
       "      <th>1</th>\n",
       "      <td>1.0</td>\n",
       "      <td>10</td>\n",
       "      <td>10</td>\n",
       "      <td>0.3655</td>\n",
       "    </tr>\n",
       "    <tr>\n",
       "      <th>2</th>\n",
       "      <td>1.0</td>\n",
       "      <td>15</td>\n",
       "      <td>14</td>\n",
       "      <td>0.4469</td>\n",
       "    </tr>\n",
       "    <tr>\n",
       "      <th>3</th>\n",
       "      <td>1.0</td>\n",
       "      <td>35</td>\n",
       "      <td>34</td>\n",
       "      <td>0.7752</td>\n",
       "    </tr>\n",
       "    <tr>\n",
       "      <th>4</th>\n",
       "      <td>1.0</td>\n",
       "      <td>55</td>\n",
       "      <td>56</td>\n",
       "      <td>1.1028</td>\n",
       "    </tr>\n",
       "    <tr>\n",
       "      <th>5</th>\n",
       "      <td>1.0</td>\n",
       "      <td>75</td>\n",
       "      <td>76</td>\n",
       "      <td>1.4320</td>\n",
       "    </tr>\n",
       "    <tr>\n",
       "      <th>6</th>\n",
       "      <td>1.0</td>\n",
       "      <td>95</td>\n",
       "      <td>96</td>\n",
       "      <td>1.7620</td>\n",
       "    </tr>\n",
       "    <tr>\n",
       "      <th>7</th>\n",
       "      <td>1.0</td>\n",
       "      <td>105</td>\n",
       "      <td>106</td>\n",
       "      <td>1.9244</td>\n",
       "    </tr>\n",
       "    <tr>\n",
       "      <th>8</th>\n",
       "      <td>1.0</td>\n",
       "      <td>125</td>\n",
       "      <td>124</td>\n",
       "      <td>2.2511</td>\n",
       "    </tr>\n",
       "    <tr>\n",
       "      <th>9</th>\n",
       "      <td>1.0</td>\n",
       "      <td>145</td>\n",
       "      <td>144</td>\n",
       "      <td>2.5814</td>\n",
       "    </tr>\n",
       "  </tbody>\n",
       "</table>\n",
       "</div>"
      ],
      "text/plain": [
       "   testID  truePressure  analogPressure  voltage\n",
       "0     1.0             5               4   0.2834\n",
       "1     1.0            10              10   0.3655\n",
       "2     1.0            15              14   0.4469\n",
       "3     1.0            35              34   0.7752\n",
       "4     1.0            55              56   1.1028\n",
       "5     1.0            75              76   1.4320\n",
       "6     1.0            95              96   1.7620\n",
       "7     1.0           105             106   1.9244\n",
       "8     1.0           125             124   2.2511\n",
       "9     1.0           145             144   2.5814"
      ]
     },
     "execution_count": 9,
     "metadata": {},
     "output_type": "execute_result"
    }
   ],
   "source": [
    "sensorData.columns = ['testID', 'truePressure', 'analogPressure', 'voltage'] #renaming columns for easier understanding\n",
    "sensorData.set_index('testID') #indexing the table by the test ID\n",
    "sensorData.head(10)"
   ]
  },
  {
   "cell_type": "markdown",
   "metadata": {},
   "source": [
    "### For each measurement system (analog readout, sensor voltage): Plot the data (as symbols) e.g. true pressure versus analog pressure; analog pressure versus volts; true pressure versus volts. Describe the plots."
   ]
  },
  {
   "cell_type": "code",
   "execution_count": 10,
   "metadata": {},
   "outputs": [
    {
     "data": {
      "text/plain": [
       "Text(0, 0.5, 'Analog Pressure')"
      ]
     },
     "execution_count": 10,
     "metadata": {},
     "output_type": "execute_result"
    },
    {
     "data": {
      "image/png": "[encoded data removed]",
      "text/plain": [
       "<Figure size 432x288 with 1 Axes>"
      ]
     },
     "metadata": {
      "needs_background": "light"
     },
     "output_type": "display_data"
    }
   ],
   "source": [
    "plt.scatter('truePressure', 'analogPressure', data = sensorData, color = 'Red')\n",
    "plt.title('True Pressure vs Analog Readout (fig. 1)')\n",
    "plt.xlabel('True Pressure')\n",
    "plt.ylabel('Analog Pressure')"
   ]
  },
  {
   "cell_type": "code",
   "execution_count": 11,
   "metadata": {},
   "outputs": [
    {
     "data": {
      "text/plain": [
       "Text(0, 0.5, 'Voltage')"
      ]
     },
     "execution_count": 11,
     "metadata": {},
     "output_type": "execute_result"
    },
    {
     "data": {
      "image/png": "[encoded data removed]",
      "text/plain": [
       "<Figure size 432x288 with 1 Axes>"
      ]
     },
     "metadata": {
      "needs_background": "light"
     },
     "output_type": "display_data"
    }
   ],
   "source": [
    "plt.scatter('truePressure', 'voltage', data = sensorData, color = 'Green')\n",
    "plt.title('True Pressure vs Sensor Voltage (fig. 2)')\n",
    "plt.xlabel('True Pressure')\n",
    "plt.ylabel('Voltage')"
   ]
  },
  {
   "cell_type": "code",
   "execution_count": 12,
   "metadata": {},
   "outputs": [
    {
     "data": {
      "text/plain": [
       "Text(0, 0.5, 'Voltage')"
      ]
     },
     "execution_count": 12,
     "metadata": {},
     "output_type": "execute_result"
    },
    {
     "data": {
      "image/png": "[encoded data removed]",
      "text/plain": [
       "<Figure size 432x288 with 1 Axes>"
      ]
     },
     "metadata": {
      "needs_background": "light"
     },
     "output_type": "display_data"
    }
   ],
   "source": [
    "plt.scatter('analogPressure', 'voltage', data = sensorData, color = 'Blue')\n",
    "plt.title('Analog Pressure Readout vs Sensor Voltage (fig. 3)')\n",
    "plt.xlabel('Analog Pressure')\n",
    "plt.ylabel('Voltage')"
   ]
  },
  {
   "cell_type": "markdown",
   "metadata": {},
   "source": [
    "The first two graphs above show the relationship between the actual pressure of the oil in the instrument to the readouts of the two different gauges that exist on the machine. The last graph shows the consistency between the two readouts. All 3 graphs show a pretty consistent positive correlation between all the values and it seems that the analog sensor is in need of calibration moreso than the electric sensor."
   ]
  },
  {
   "cell_type": "markdown",
   "metadata": {},
   "source": [
    "### Select possible data model structures (linear model, power-law, …)\n",
    "\n",
    "We will be using a linear regresson model for two reasons.\n",
    "\n",
    "1. Our research (RealPars, 2020) into transducers shows that they are built to output voltage with 100% 1:1 coverage of the possible pressure values from atmospheric pressure to some arbirtary stop point, implying a linear relationship between the pressure and the voltage.\n",
    "2. Even if we did not have a theoretical ground, visual analysis clearly shows that a linear relationship is most accurate."
   ]
  },
  {
   "cell_type": "markdown",
   "metadata": {},
   "source": [
    "### Select possible data model \"fitting\" tools (ordinary least squares,lasso regression, decision trees, random forests, …)\n",
    "\n",
    "We Will be using the ordinary least squares method, as it is the model we feel is easiest to apply to a linear regression and the least squares method produces a regression which is most accurate around the mean of the data set, following a normal distribution, which we feel will benefit the nature of the model, being that the transducer can only cover a certain interval.\n",
    "\n",
    "We Dicided against the use of lasso regression, as lasso regression is intended to be used to combat overfitting (CodeBasics, 2020) and we do not believe that this data set has enough variables or noise to create an overfitting problem (IBM, 2021).\n",
    "\n",
    "We chose not to pursue decision tree learning because we do not feel that our data set has any clear cases which would shift the paradigm for evaluation based on any solid criterion. Same applies for random forests."
   ]
  },
  {
   "cell_type": "markdown",
   "metadata": {},
   "source": [
    "## Task 4 – Model Building"
   ]
  },
  {
   "cell_type": "markdown",
   "metadata": {},
   "source": [
    "### Build data models"
   ]
  },
  {
   "cell_type": "code",
   "execution_count": 13,
   "metadata": {},
   "outputs": [],
   "source": [
    "tpvr = np.corrcoef(sensorData['truePressure'], sensorData['voltage'])[0,1] #True Pressure Voltage Correlation Coefficient\n",
    "apvr = np.corrcoef(sensorData['analogPressure'], sensorData['voltage'])[0,1] #Analogue Pressure Voltage Correlation Coefficient\n",
    "\n",
    "#slope and intercept of True Pressure Voltage in Original Units\n",
    "tpvSlopeOU = (tpvr*np.std(sensorData['voltage']))/(np.std(sensorData['truePressure']))\n",
    "tpvInterOU = np.mean(sensorData['voltage']) - (tpvSlopeOU*np.mean(sensorData['truePressure']))\n",
    "\n",
    "#same but of True Pressure and Analog Pressure\n",
    "apvSlopeOU = (apvr*np.std(sensorData['voltage']))/(np.std(sensorData['analogPressure']))\n",
    "apvInterOU = np.mean(sensorData['voltage']) - (apvSlopeOU*np.mean(sensorData['analogPressure']))\n",
    "\n",
    "#Predictions for voltage using both models at analog data points\n",
    "sensorData['tpvPrediction']= tpvSlopeOU * sensorData['analogPressure'] + tpvInterOU\n",
    "sensorData['apvPrediction']= apvSlopeOU * sensorData['analogPressure'] + apvInterOU\n",
    "\n",
    "#A third prediction using true pressure correlation but the analog pressure intercept. \n",
    "#This may yield better results if the analog pressure readings are generall off by some constant, since the true pressure data seems to be more consistent.\n",
    "sensorData['tpvPredictionOffset']= tpvSlopeOU * sensorData['analogPressure'] + apvInterOU"
   ]
  },
  {
   "cell_type": "markdown",
   "metadata": {},
   "source": [
    "### Assess data model quality (decide which model is best) including visualization tools (red line through blue dots …)"
   ]
  },
  {
   "cell_type": "code",
   "execution_count": 14,
   "metadata": {},
   "outputs": [
    {
     "data": {
      "text/plain": [
       "Text(0.5, 1.0, 'Analog Pressure vs Voltage w/ True Pressure Prediction (fig. 4)')"
      ]
     },
     "execution_count": 14,
     "metadata": {},
     "output_type": "execute_result"
    },
    {
     "data": {
      "image/png": "[encoded data removed]",
      "text/plain": [
       "<Figure size 432x288 with 1 Axes>"
      ]
     },
     "metadata": {
      "needs_background": "light"
     },
     "output_type": "display_data"
    }
   ],
   "source": [
    "plt.scatter('analogPressure', 'voltage', data=sensorData, color='blue')\n",
    "plt.plot('analogPressure', 'tpvPrediction', data=sensorData, color='red')\n",
    "plt.ylabel('Voltage')\n",
    "plt.xlabel('Analog Pressure')\n",
    "plt.title('Analog Pressure vs Voltage w/ True Pressure Prediction (fig. 4)')"
   ]
  },
  {
   "cell_type": "code",
   "execution_count": 15,
   "metadata": {},
   "outputs": [
    {
     "data": {
      "text/plain": [
       "Text(0.5, 1.0, 'Analog Pressure vs Voltage w/ analog pressure Prediction (fig. 5)')"
      ]
     },
     "execution_count": 15,
     "metadata": {},
     "output_type": "execute_result"
    },
    {
     "data": {
      "image/png": "[encoded data removed]",
      "text/plain": [
       "<Figure size 432x288 with 1 Axes>"
      ]
     },
     "metadata": {
      "needs_background": "light"
     },
     "output_type": "display_data"
    }
   ],
   "source": [
    "plt.scatter('analogPressure', 'voltage', data=sensorData, color='blue')\n",
    "plt.plot('analogPressure', 'apvPrediction', data=sensorData, color='red')\n",
    "plt.ylabel('Voltage')\n",
    "plt.xlabel('Analog Pressure')\n",
    "plt.title('Analog Pressure vs Voltage w/ analog pressure Prediction (fig. 5)')"
   ]
  },
  {
   "cell_type": "code",
   "execution_count": 16,
   "metadata": {},
   "outputs": [
    {
     "data": {
      "text/plain": [
       "Text(0.5, 1.0, 'Analog Pressure vs Voltage w/ mixed pressure Prediction (fig. 6)')"
      ]
     },
     "execution_count": 16,
     "metadata": {},
     "output_type": "execute_result"
    },
    {
     "data": {
      "image/png": "[encoded data removed]",
      "text/plain": [
       "<Figure size 432x288 with 1 Axes>"
      ]
     },
     "metadata": {
      "needs_background": "light"
     },
     "output_type": "display_data"
    }
   ],
   "source": [
    "plt.scatter('analogPressure', 'voltage', data=sensorData, color='blue')\n",
    "plt.plot('analogPressure', 'tpvPredictionOffset', data=sensorData, color='red')\n",
    "plt.ylabel('Voltage')\n",
    "plt.xlabel('Analog Pressure')\n",
    "plt.title('Analog Pressure vs Voltage w/ mixed pressure Prediction (fig. 6)')"
   ]
  },
  {
   "cell_type": "markdown",
   "metadata": {},
   "source": [
    "Visual analysis is unclear."
   ]
  },
  {
   "cell_type": "code",
   "execution_count": 17,
   "metadata": {},
   "outputs": [
    {
     "data": {
      "text/plain": [
       "0.024915620989049828"
      ]
     },
     "execution_count": 17,
     "metadata": {},
     "output_type": "execute_result"
    }
   ],
   "source": [
    "#Root Mean Square Error Calculation For True Pressure Prediction Model\n",
    "sensorData['truePressureError'] = sensorData['voltage'] - sensorData['tpvPrediction']\n",
    "tpvRMSE = np.sqrt(np.mean(sensorData['truePressureError']**2))\n",
    "tpvRMSE"
   ]
  },
  {
   "cell_type": "code",
   "execution_count": 18,
   "metadata": {},
   "outputs": [
    {
     "data": {
      "text/plain": [
       "0.019731978801160385"
      ]
     },
     "execution_count": 18,
     "metadata": {},
     "output_type": "execute_result"
    }
   ],
   "source": [
    "#Root Mean Square Error Calculation For Analog Pressure Prediction Model\n",
    "sensorData['analogPressureError'] = sensorData['voltage'] - sensorData['apvPrediction']\n",
    "apvRMSE = np.sqrt(np.mean(sensorData['analogPressureError']**2))\n",
    "apvRMSE"
   ]
  },
  {
   "cell_type": "code",
   "execution_count": 19,
   "metadata": {},
   "outputs": [
    {
     "data": {
      "text/plain": [
       "0.02049991816992991"
      ]
     },
     "execution_count": 19,
     "metadata": {},
     "output_type": "execute_result"
    }
   ],
   "source": [
    "#Root Mean Square Error Calculation For True Pressure Offset Prediction Model\n",
    "sensorData['truePressureOffsetError'] = sensorData['voltage'] - sensorData['tpvPredictionOffset']\n",
    "tpvoRMSE = np.sqrt(np.mean(sensorData['truePressureOffsetError']**2))\n",
    "tpvoRMSE"
   ]
  },
  {
   "cell_type": "code",
   "execution_count": 20,
   "metadata": {},
   "outputs": [
    {
     "name": "stdout",
     "output_type": "stream",
     "text": [
      "1.262702602720443\n"
     ]
    },
    {
     "data": {
      "text/plain": [
       "1.0389185178287523"
      ]
     },
     "execution_count": 20,
     "metadata": {},
     "output_type": "execute_result"
    }
   ],
   "source": [
    "#Dividing the larger RMSE by the smaller RMSE to see how many times more accurate the smaller RMSE is.\n",
    "print(tpvRMSE/apvRMSE)\n",
    "tpvoRMSE/ apvRMSE"
   ]
  },
  {
   "cell_type": "markdown",
   "metadata": {},
   "source": [
    "RMSE calculations indicate that the Analog Pressure Prediction Model is is the most accurate, with 1.26x accuracy of the true pressure model and 1.03x the accuracy of the mixed model.\n",
    "We, however, believe that this accuracy may be because the model is conforming to the noise of the analog input sample, so we have decided to rerun the test again using random sample data."
   ]
  },
  {
   "cell_type": "code",
   "execution_count": 21,
   "metadata": {},
   "outputs": [
    {
     "data": {
      "text/html": [
       "<div>\n",
       "<style scoped>\n",
       "    .dataframe tbody tr th:only-of-type {\n",
       "        vertical-align: middle;\n",
       "    }\n",
       "\n",
       "    .dataframe tbody tr th {\n",
       "        vertical-align: top;\n",
       "    }\n",
       "\n",
       "    .dataframe thead th {\n",
       "        text-align: right;\n",
       "    }\n",
       "</style>\n",
       "<table border=\"1\" class=\"dataframe\">\n",
       "  <thead>\n",
       "    <tr style=\"text-align: right;\">\n",
       "      <th></th>\n",
       "      <th>testID</th>\n",
       "      <th>truePressure</th>\n",
       "      <th>analogPressure</th>\n",
       "      <th>voltage</th>\n",
       "    </tr>\n",
       "  </thead>\n",
       "  <tbody>\n",
       "    <tr>\n",
       "      <th>93</th>\n",
       "      <td>8.0</td>\n",
       "      <td>145</td>\n",
       "      <td>144</td>\n",
       "      <td>2.58190</td>\n",
       "    </tr>\n",
       "    <tr>\n",
       "      <th>42</th>\n",
       "      <td>4.0</td>\n",
       "      <td>95</td>\n",
       "      <td>94</td>\n",
       "      <td>1.76090</td>\n",
       "    </tr>\n",
       "    <tr>\n",
       "      <th>87</th>\n",
       "      <td>8.0</td>\n",
       "      <td>35</td>\n",
       "      <td>34</td>\n",
       "      <td>0.77680</td>\n",
       "    </tr>\n",
       "    <tr>\n",
       "      <th>81</th>\n",
       "      <td>7.0</td>\n",
       "      <td>145</td>\n",
       "      <td>144</td>\n",
       "      <td>2.58220</td>\n",
       "    </tr>\n",
       "    <tr>\n",
       "      <th>7</th>\n",
       "      <td>1.0</td>\n",
       "      <td>105</td>\n",
       "      <td>106</td>\n",
       "      <td>1.92440</td>\n",
       "    </tr>\n",
       "    <tr>\n",
       "      <th>...</th>\n",
       "      <td>...</td>\n",
       "      <td>...</td>\n",
       "      <td>...</td>\n",
       "      <td>...</td>\n",
       "    </tr>\n",
       "    <tr>\n",
       "      <th>102</th>\n",
       "      <td>9.0</td>\n",
       "      <td>95</td>\n",
       "      <td>95</td>\n",
       "      <td>1.76320</td>\n",
       "    </tr>\n",
       "    <tr>\n",
       "      <th>80</th>\n",
       "      <td>7.0</td>\n",
       "      <td>125</td>\n",
       "      <td>124</td>\n",
       "      <td>2.25430</td>\n",
       "    </tr>\n",
       "    <tr>\n",
       "      <th>85</th>\n",
       "      <td>8.0</td>\n",
       "      <td>10</td>\n",
       "      <td>10</td>\n",
       "      <td>0.36640</td>\n",
       "    </tr>\n",
       "    <tr>\n",
       "      <th>72</th>\n",
       "      <td>6.0</td>\n",
       "      <td>5</td>\n",
       "      <td>4</td>\n",
       "      <td>0.28470</td>\n",
       "    </tr>\n",
       "    <tr>\n",
       "      <th>61</th>\n",
       "      <td>7.0</td>\n",
       "      <td>10</td>\n",
       "      <td>10</td>\n",
       "      <td>0.36603</td>\n",
       "    </tr>\n",
       "  </tbody>\n",
       "</table>\n",
       "<p>100 rows × 4 columns</p>\n",
       "</div>"
      ],
      "text/plain": [
       "     testID  truePressure  analogPressure  voltage\n",
       "93      8.0           145             144  2.58190\n",
       "42      4.0            95              94  1.76090\n",
       "87      8.0            35              34  0.77680\n",
       "81      7.0           145             144  2.58220\n",
       "7       1.0           105             106  1.92440\n",
       "..      ...           ...             ...      ...\n",
       "102     9.0            95              95  1.76320\n",
       "80      7.0           125             124  2.25430\n",
       "85      8.0            10              10  0.36640\n",
       "72      6.0             5               4  0.28470\n",
       "61      7.0            10              10  0.36603\n",
       "\n",
       "[100 rows x 4 columns]"
      ]
     },
     "execution_count": 21,
     "metadata": {},
     "output_type": "execute_result"
    }
   ],
   "source": [
    "sampleData = sensorData.sample(100)\n",
    "sampleData.head()\n",
    "sampleData.drop(columns=['tpvPrediction', 'apvPrediction', 'truePressureError', 'analogPressureError', 'tpvPredictionOffset', 'truePressureOffsetError'])"
   ]
  },
  {
   "cell_type": "code",
   "execution_count": 22,
   "metadata": {},
   "outputs": [],
   "source": [
    "tpvr = np.corrcoef(sampleData['truePressure'], sampleData['voltage'])[0,1] #True Pressure Voltage Correlation Coefficient\n",
    "apvr = np.corrcoef(sampleData['analogPressure'], sampleData['voltage'])[0,1] #Analogue Pressure Voltage Correlation Coefficient\n",
    "\n",
    "#slope and intercept of True Pressure Voltage in Original Units\n",
    "tpvSlopeOU = (tpvr*np.std(sampleData['voltage']))/(np.std(sampleData['truePressure']))\n",
    "tpvInterOU = np.mean(sampleData['voltage']) - (tpvSlopeOU*np.mean(sampleData['truePressure']))\n",
    "\n",
    "#same but of Analog Pressure\n",
    "apvSlopeOU = (apvr*np.std(sampleData['voltage']))/(np.std(sampleData['analogPressure']))\n",
    "apvInterOU = np.mean(sampleData['voltage']) - (apvSlopeOU*np.mean(sampleData['analogPressure']))\n",
    "\n",
    "#Predictions for voltage using both models at analog data points\n",
    "sampleData['tpvPrediction']= tpvSlopeOU * sampleData['analogPressure'] + tpvInterOU\n",
    "sampleData['apvPrediction']= apvSlopeOU * sampleData['analogPressure'] + apvInterOU\n",
    "\n",
    "#A third prediction using true pressure correlation but the analog pressure intercept. \n",
    "#This may yield better results if the analog pressure readings are generall off by some constant, since the true pressure data seems to be more consistent.\n",
    "sampleData['tpvPredictionOffset']= tpvSlopeOU * sampleData['analogPressure'] + apvInterOU"
   ]
  },
  {
   "cell_type": "code",
   "execution_count": 23,
   "metadata": {},
   "outputs": [
    {
     "data": {
      "text/plain": [
       "Text(0.5, 1.0, 'Sample Data Analog Pressure vs Voltage w/ True Pressure Prediction (fig. 7)')"
      ]
     },
     "execution_count": 23,
     "metadata": {},
     "output_type": "execute_result"
    },
    {
     "data": {
      "image/png": "[encoded data removed]",
      "text/plain": [
       "<Figure size 432x288 with 1 Axes>"
      ]
     },
     "metadata": {
      "needs_background": "light"
     },
     "output_type": "display_data"
    }
   ],
   "source": [
    "plt.scatter('analogPressure', 'voltage', data=sampleData, color='blue')\n",
    "plt.plot('analogPressure', 'tpvPrediction', data=sampleData, color='red')\n",
    "plt.ylabel('Voltage')\n",
    "plt.xlabel('Analog Pressure')\n",
    "plt.title('Sample Data Analog Pressure vs Voltage w/ True Pressure Prediction (fig. 7)')"
   ]
  },
  {
   "cell_type": "code",
   "execution_count": 24,
   "metadata": {},
   "outputs": [
    {
     "data": {
      "text/plain": [
       "Text(0.5, 1.0, 'Sample Data Analog Pressure vs Voltage w/ analog pressure Prediction (fig. 8)')"
      ]
     },
     "execution_count": 24,
     "metadata": {},
     "output_type": "execute_result"
    },
    {
     "data": {
      "image/png": "[encoded data removed]",
      "text/plain": [
       "<Figure size 432x288 with 1 Axes>"
      ]
     },
     "metadata": {
      "needs_background": "light"
     },
     "output_type": "display_data"
    }
   ],
   "source": [
    "plt.scatter('analogPressure', 'voltage', data=sampleData, color='blue')\n",
    "plt.plot('analogPressure', 'apvPrediction', data=sampleData, color='red')\n",
    "plt.ylabel('Voltage')\n",
    "plt.xlabel('Analog Pressure')\n",
    "plt.title('Sample Data Analog Pressure vs Voltage w/ analog pressure Prediction (fig. 8)')"
   ]
  },
  {
   "cell_type": "code",
   "execution_count": 25,
   "metadata": {},
   "outputs": [
    {
     "data": {
      "text/plain": [
       "Text(0.5, 1.0, 'Sample Data Analog Pressure vs Voltage w/ mixed pressure Prediction (fig. 9)')"
      ]
     },
     "execution_count": 25,
     "metadata": {},
     "output_type": "execute_result"
    },
    {
     "data": {
      "image/png": "[encoded data removed]",
      "text/plain": [
       "<Figure size 432x288 with 1 Axes>"
      ]
     },
     "metadata": {
      "needs_background": "light"
     },
     "output_type": "display_data"
    }
   ],
   "source": [
    "plt.scatter('analogPressure', 'voltage', data=sampleData, color='blue')\n",
    "plt.plot('analogPressure', 'tpvPredictionOffset', data=sampleData, color='red')\n",
    "plt.ylabel('Voltage')\n",
    "plt.xlabel('Analog Pressure')\n",
    "plt.title('Sample Data Analog Pressure vs Voltage w/ mixed pressure Prediction (fig. 9)')"
   ]
  },
  {
   "cell_type": "markdown",
   "metadata": {},
   "source": [
    "Visual analysis is still unclear."
   ]
  },
  {
   "cell_type": "code",
   "execution_count": 26,
   "metadata": {},
   "outputs": [
    {
     "name": "stdout",
     "output_type": "stream",
     "text": [
      "0.024822525685681555\n",
      "0.01955701363512538\n"
     ]
    },
    {
     "data": {
      "text/plain": [
       "0.0203891585342048"
      ]
     },
     "execution_count": 26,
     "metadata": {},
     "output_type": "execute_result"
    }
   ],
   "source": [
    "tpvRMSEArr = []\n",
    "apvRMSEArr = []\n",
    "tpvoRMSEArr = []\n",
    "\n",
    "for i in range(1000):\n",
    "    sampleData = sensorData.sample(100)\n",
    "    sampleData.head()\n",
    "    sampleData.drop(columns=['tpvPrediction', 'apvPrediction', 'truePressureError', 'analogPressureError', 'tpvPredictionOffset', 'truePressureOffsetError'])\n",
    "    \n",
    "    tpvr = np.corrcoef(sampleData['truePressure'], sampleData['voltage'])[0,1] #True Pressure Voltage Correlation Coefficient\n",
    "    apvr = np.corrcoef(sampleData['analogPressure'], sampleData['voltage'])[0,1] #Analogue Pressure Voltage Correlation Coefficient\n",
    "\n",
    "    #slope and intercept of True Pressure Voltage in Original Units\n",
    "    tpvSlopeOU = (tpvr*np.std(sampleData['voltage']))/(np.std(sampleData['truePressure']))\n",
    "    tpvInterOU = np.mean(sampleData['voltage']) - (tpvSlopeOU*np.mean(sampleData['truePressure']))\n",
    "\n",
    "    #same but of True Pressure and Analog Pressure\n",
    "    apvSlopeOU = (apvr*np.std(sampleData['voltage']))/(np.std(sampleData['analogPressure']))\n",
    "    apvInterOU = np.mean(sampleData['voltage']) - (apvSlopeOU*np.mean(sampleData['analogPressure']))\n",
    "\n",
    "    #Predictions for voltage using both models at analog data points\n",
    "    sampleData['tpvPrediction']= tpvSlopeOU * sampleData['analogPressure'] + tpvInterOU\n",
    "    sampleData['apvPrediction']= apvSlopeOU * sampleData['analogPressure'] + apvInterOU\n",
    "\n",
    "    #A third prediction using true pressure correlation but the analog pressure intercept. \n",
    "    #This may yield better results if the analog pressure readings are generall off by some constant, since the true pressure data seems to be more consistent.\n",
    "    sampleData['tpvPredictionOffset']= tpvSlopeOU * sampleData['analogPressure'] + apvInterOU\n",
    "    \n",
    "    #Root Mean Square Error Calculation For True Pressure Prediction Model\n",
    "    sampleData['truePressureError'] = sampleData['voltage'] - sampleData['tpvPrediction']\n",
    "    tpvRMSEArr.append(np.sqrt(np.mean(sampleData['truePressureError']**2)))\n",
    "    \n",
    "    #Root Mean Square Error Calculation For Analog Pressure Prediction Model\n",
    "    sampleData['analogPressureError'] = sampleData['voltage'] - sampleData['apvPrediction']\n",
    "    apvRMSEArr.append(np.sqrt(np.mean(sampleData['analogPressureError']**2)))\n",
    "    \n",
    "    #Root Mean Square Error Calculation For True Pressure Offset Prediction Model\n",
    "    sampleData['truePressureOffsetError'] = sampleData['voltage'] - sampleData['tpvPredictionOffset']\n",
    "    tpvoRMSEArr.append(np.sqrt(np.mean(sampleData['truePressureOffsetError']**2)))\n",
    "    \n",
    "print(np.mean(tpvRMSEArr))\n",
    "print(np.mean(apvRMSEArr))\n",
    "np.mean(tpvoRMSEArr)"
   ]
  },
  {
   "cell_type": "markdown",
   "metadata": {},
   "source": [
    "Random sample data confirms that the Analog Pressure Model is the most accurate. We will be moving forward with this model."
   ]
  },
  {
   "cell_type": "markdown",
   "metadata": {},
   "source": [
    "#### Build the input data interface for using the \"best\" model(s)"
   ]
  },
  {
   "cell_type": "code",
   "execution_count": 49,
   "metadata": {},
   "outputs": [],
   "source": [
    "def conversion(opt, *args):\n",
    "    if len(args) == 1:\n",
    "        num = args[0]\n",
    "        if opt == '-a' or opt == '--analog':\n",
    "            return('your voltage is: ' + str(0.016456026104691296*num+0.21185720045950096))\n",
    "        if opt == '-v' or opt == '--voltage':\n",
    "            return('your analog reading is: ' + str((num-0.21185720045950096)/0.016456026104691296))\n",
    "        else:\n",
    "            return('Invalid option (use -h for help)')\n",
    "    if opt == '-h' or opt == '--help':\n",
    "        return('Usage: conversion [OPTION] [VALUE]\\n\\nAvailable options:\\n  -a, --analog; Converts analog data to voltage reading\\n  -v, --voltage; Converts voltage reading to analog data\\n  -h, --help; Displays this menu')\n",
    "    else:\n",
    "        return('Invalid usage (use -h for help)')"
   ]
  },
  {
   "cell_type": "markdown",
   "metadata": {},
   "source": [
    "### Assume that you are now using your calibrated analog pressure gauge to make a reading in the field. You read a value of 64 psi on the gauge. Estimate the true pressure at 95 percent confidence. Be sure to report your result with a value with an appropriate number of digits, an uncertainty bracket, units, and a confidence level."
   ]
  },
  {
   "cell_type": "markdown",
   "metadata": {},
   "source": [
    "### Assume that you are now using your calibrated pressure transducer to make a reading in the field. You read a value of 1.4320 Volts . Estimate the true pressure at 95 percent confidence. Be sure to report your result with a value with an appropriate number of digits, an uncertainty bracket, units, and a confidence level."
   ]
  },
  {
   "cell_type": "markdown",
   "metadata": {},
   "source": [
    "### Using your best model determine projected pressure readings and an assessment of uncertainty for 5 sensor voltages in the table below.\n",
    "|Test|Sensor Voltage|\n",
    "|:---|:---|\n",
    "|U1|3.0|\n",
    "|U2|0.2|\n",
    "|U3|0.03|\n",
    "|U4|5.0|     \n",
    "|U5|0.07|                \n",
    "       "
   ]
  },
  {
   "cell_type": "markdown",
   "metadata": {},
   "source": [
    "## Task 5 - Documentation"
   ]
  },
  {
   "cell_type": "markdown",
   "metadata": {},
   "source": [
    "### Training video on how to use your tool, and demonstrate the tool(s) as they are run"
   ]
  },
  {
   "cell_type": "markdown",
   "metadata": {},
   "source": [
    "### Project management video"
   ]
  },
  {
   "cell_type": "markdown",
   "metadata": {},
   "source": [
    "## Citations"
   ]
  },
  {
   "cell_type": "raw",
   "metadata": {},
   "source": [
    "Codebasics. (2020, November). Machine Learning Tutorial Python - 17: L1 and L2 Regularization | \n",
    "    Lasso, Ridge Regression [Video]. Youtube. https://youtu.be/VqKq78PVO9g\n",
    "IBM. (2021, March 3). Overfitting [Fact sheet]. IBM Cloud Learning Hub. Retrieved December 4, 2021, \n",
    "    from https://www.ibm.com/cloud/learn/overfitting\n",
    "RealPars. (2020, July). Pressure Transmitter Explained | Working Principle [Video]. Youtube. \n",
    "    https://www.youtube.com/watch?v=zS77qnlEPg0 "
   ]
  },
  {
   "cell_type": "code",
   "execution_count": null,
   "metadata": {},
   "outputs": [],
   "source": []
  }
 ],
 "metadata": {
  "kernelspec": {
   "display_name": "Python 3",
   "language": "python",
   "name": "python3"
  },
  "language_info": {
   "codemirror_mode": {
    "name": "ipython",
    "version": 3
   },
   "file_extension": ".py",
   "mimetype": "text/x-python",
   "name": "python",
   "nbconvert_exporter": "python",
   "pygments_lexer": "ipython3",
   "version": "3.8.8"
  }
 },
 "nbformat": 4,
 "nbformat_minor": 4
}
